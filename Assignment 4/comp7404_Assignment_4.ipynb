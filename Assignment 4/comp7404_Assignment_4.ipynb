{
  "nbformat": 4,
  "nbformat_minor": 0,
  "metadata": {
    "colab": {
      "provenance": []
    },
    "kernelspec": {
      "name": "python3",
      "display_name": "Python 3"
    }
  },
  "cells": [
    {
      "cell_type": "markdown",
      "metadata": {
        "id": "0AUwbFEaMiWi"
      },
      "source": [
        "# COMP7404 - Assignment 4\n",
        "\n",
        "## Part A: Conceptual Questions\n",
        "\n",
        "Solve the following questions by hand. You can write your answer on a seperate paper (submit as *.pdf) or type it below and submit together with Part B as a single *.ipynb file.\n"
      ]
    },
    {
      "cell_type": "markdown",
      "metadata": {
        "id": "Zkb0whVuM2Wc"
      },
      "source": [
        "### A1\n",
        "Consider a Perceptron with 2 inputs and 1 output. Let the weights of the Perceptron be $w_1 = 1$ and $w_2 = 1$ and let the bias be $w_0 = -1.5$. Calculate the output of the following inputs:(0, 0), (1, 0), (0, 1), (1, 1)"
      ]
    },
    {
      "cell_type": "markdown",
      "metadata": {
        "id": "MtGUikOfOYyI"
      },
      "source": [
        "\n",
        "\n",
        "```\n",
        "# This is formatted as code\n",
        "```\n",
        "\n",
        "(0,0): z = w0x0 + w1x1 + w2x2 = -1.5(1) + 1(0) + 1(0) = -1.5. Output is -1.\n",
        "\n",
        "(1,0): z = w0x0 + w1x1 + w2x2 = -1.5(1) + 1(1) + 1(0) = -0.5. Output is -1.\n",
        "\n",
        "(0,1): z = w0x0 + w1x1 + w2x2 = -1.5(1) + 1(0) + 1(1) = -0.5. Output is -1.\n",
        "\n",
        "(1,1): z = w0x0 + w1x1 + w2x2 = -1.5(1) + 1(1) + 1(1) = 0.5. Output is 1.\n",
        "\n"
      ]
    },
    {
      "cell_type": "markdown",
      "metadata": {
        "id": "BtvkvUDHOb9o"
      },
      "source": [
        "###A2\n",
        "Define a perceptron for the following logical functions: AND, NOT, NAND, NOR\n"
      ]
    },
    {
      "cell_type": "markdown",
      "metadata": {
        "id": "v3_Se0meOqxQ"
      },
      "source": [
        "*Your answer here*\n",
        "\n",
        "AND: x1+x2-1\n",
        "NOT: 2x1+2x2–1\n",
        "NAND: -x1-x2+2\n",
        "NOR: -x1-x2+1"
      ]
    },
    {
      "cell_type": "markdown",
      "metadata": {
        "id": "oDwHHY3KSjEh"
      },
      "source": [
        "###A3\n",
        "The parity problem returns 1 if the number of inputs that are 1 is even, and 0 otherwise. Can a perceptron learn this problem for 3 inputs? \n"
      ]
    },
    {
      "cell_type": "markdown",
      "metadata": {
        "id": "VLxZod0-Stj6"
      },
      "source": [
        "*Your answer here*\n",
        "\n",
        "No, we cannot classify it using a single neuron because it will act as a XOR gate. In a single-layer perceptron, it is not possible to implement the XOR operation."
      ]
    },
    {
      "cell_type": "markdown",
      "metadata": {
        "id": "SMGxkXbSSwo_"
      },
      "source": [
        "###A4\n",
        "Suppose that the following are a set of point in two classes:\n",
        "\n",
        "*   Class1: $(1, 1), (1, 2), (2, 1)$\n",
        "*   Class2: $(0, 0), (1, 0), (0, 1)$\n",
        "\n",
        "Plot them and find the optimal separating line. What are the support vectors, and what is the meaning?\n"
      ]
    },
    {
      "cell_type": "markdown",
      "metadata": {
        "id": "xjhx822xSjEj"
      },
      "source": [
        "*Your answer here*"
      ]
    },
    {
      "cell_type": "markdown",
      "metadata": {
        "id": "kRke2doCTRWw"
      },
      "source": [
        "###A5\n",
        "Suppose that the probability of five events are $P(first) = 0.5, P(second) = P(third) = P(fourth) = P(fifth) = 0.125$. Calculate the entropy and write down in words what this means. \n"
      ]
    },
    {
      "cell_type": "markdown",
      "metadata": {
        "id": "1g_IC4sbTRdt"
      },
      "source": [
        "*Your answer here*"
      ]
    },
    {
      "cell_type": "markdown",
      "metadata": {
        "id": "4Ug_a4eETjq9"
      },
      "source": [
        "###A6\n",
        "Design a decision tree that computes the logical AND function. How does it compare to the Perceptron solution?"
      ]
    },
    {
      "cell_type": "markdown",
      "metadata": {
        "id": "HONNlWWETj49"
      },
      "source": [
        "*Your answer here*"
      ]
    },
    {
      "cell_type": "markdown",
      "metadata": {
        "id": "q-aMRB0VTs-e"
      },
      "source": [
        "###A7\n",
        "Turn the following politically incorrect data into a decision tree to classify which attributes make a person attractive, and then extract the rules. Use the Gini Impurity.\n",
        "\n",
        "| Height  | Hair  | Eyes  | Attractive?  |\n",
        "|:-:|:-:|:-:|:-:|\n",
        "| Small  | Blonde  | Brown  | No  |\n",
        "| Tall  | Dark  | Brown  | No  |\n",
        "| Tall  | Blonde  | Blue  | Yes  |\n",
        "| Tall  | Dark  | Blue  | No  |\n",
        "| Small  | Dark  | Blue  | No  |\n",
        "| Tall  | Red  | Blue  | Yes  |\n",
        "| Tall  | Blonde  | Brown  | No  |\n",
        "| Small  | Blonde  | Blue  | Yes  |\n"
      ]
    },
    {
      "cell_type": "markdown",
      "metadata": {
        "id": "_Zi8zFnrUk6R"
      },
      "source": [
        "*Your answer here*"
      ]
    },
    {
      "cell_type": "markdown",
      "metadata": {
        "id": "Knh_aBKPUmyl"
      },
      "source": [
        "###A8\n",
        "Suppose we collect data for a group of students in a postgraduate machine learning class with features $x_1$ = hours studies, $x_2$ = undergraduate GPA and label $y$ = receive an A. We fit a logistic regression and produce estimated weights as follows: $w_0 = -6$, $w_1 = 0.05$, $w_2 = 1$.\n",
        "\n",
        "1.  Estimate the probability that a student who studies for 40h and has an undergraduate GPA of 3.5 gets an A in the class\n",
        "2.  How many hours would the student in part 1. need to study to have a 50% chance of getting an A in the class?"
      ]
    },
    {
      "cell_type": "markdown",
      "metadata": {
        "id": "fjyKfm1KW-8b"
      },
      "source": [
        "*Your answer here*"
      ]
    },
    {
      "cell_type": "markdown",
      "metadata": {
        "id": "GXfA8H0PXBUW"
      },
      "source": [
        "###A9\n",
        "Suppose that we take a data set, divide it into equally-sized training and test sets, and then try out two different classification procedures. First we use logistic regression and get an error rate of 20% on the training data and 30% on the test data. Next we use 1-nearest neighbors (i.e., K=1) and get an average error rate (averaged over both test and training data sets) of 18%. Based on these results, which method should we prefer to use for classification of new observations? Why?"
      ]
    },
    {
      "cell_type": "markdown",
      "metadata": {
        "id": "TPLLkUruXH7s"
      },
      "source": [
        "*Your answer here*"
      ]
    },
    {
      "cell_type": "markdown",
      "metadata": {
        "id": "t9C3HzscGJRK"
      },
      "source": [
        "### A10\n",
        "\n",
        "Suppose the features in your training set have very different scales. Which algorithms discussed in class might suffer from this, and how? What can you do about it?\n"
      ]
    },
    {
      "cell_type": "markdown",
      "metadata": {
        "id": "vOldZMVsGMq4"
      },
      "source": [
        "*Your answer here*"
      ]
    },
    {
      "cell_type": "markdown",
      "metadata": {
        "id": "v6_-anGK53ee"
      },
      "source": [
        "### A11\n",
        "\n",
        "\n",
        "If your AdaBoost ensemble underfits the training data, which hyperparameters should you tweak and how?"
      ]
    },
    {
      "cell_type": "markdown",
      "metadata": {
        "id": "nAnz6reT6utg"
      },
      "source": [
        "*Your answer here*"
      ]
    },
    {
      "cell_type": "markdown",
      "metadata": {
        "id": "fsIKbwXx6f6m"
      },
      "source": [
        "### A12\n",
        "\n",
        "What is the benefit of out-of-bag evaluation?"
      ]
    },
    {
      "cell_type": "markdown",
      "metadata": {
        "id": "eotzI3zY6vaj"
      },
      "source": [
        "*Your answer here*"
      ]
    },
    {
      "cell_type": "markdown",
      "metadata": {
        "id": "t5YVqiMV6ml2"
      },
      "source": [
        "### A13\n",
        "\n",
        "What is the difference between hard and soft voting classifiers?"
      ]
    },
    {
      "cell_type": "markdown",
      "metadata": {
        "id": "GrAU8kT-6v5-"
      },
      "source": [
        "*Your answer here*"
      ]
    },
    {
      "cell_type": "markdown",
      "metadata": {
        "id": "uOViY3z7XoZR"
      },
      "source": [
        "## Part B: Applied Questions\n",
        "\n",
        "Solve the following questions by implementing solutions in code."
      ]
    },
    {
      "cell_type": "markdown",
      "metadata": {
        "id": "JkYvVa5pXuCQ"
      },
      "source": [
        "###B1\n",
        "Consider the following Perceptron code."
      ]
    },
    {
      "cell_type": "code",
      "metadata": {
        "id": "_NRaSwsgZyfE"
      },
      "source": [
        "import numpy as np\n",
        "\n",
        "class Perceptron(object):\n",
        "    \"\"\"Perceptron classifier.\n",
        "\n",
        "    Parameters\n",
        "    ------------\n",
        "    eta : float\n",
        "        Learning rate (between 0.0 and 1.0)\n",
        "    n_iter : int\n",
        "        Passes over the training dataset.\n",
        "\n",
        "    Attributes\n",
        "    -----------\n",
        "    w_ : 1d-array\n",
        "        Weights after fitting.\n",
        "    errors_ : list\n",
        "        Number of misclassifications in every epoch.\n",
        "\n",
        "    \"\"\"\n",
        "    def __init__(self, eta=0.01, n_iter=10):\n",
        "        self.eta = eta\n",
        "        self.n_iter = n_iter\n",
        "\n",
        "    def fit(self, X, y):\n",
        "        \"\"\"Fit training data.\n",
        "\n",
        "        Parameters\n",
        "        ----------\n",
        "        X : {array-like}, shape = [n_samples, n_features]\n",
        "            Training vectors, where n_samples is the number of samples and\n",
        "            n_features is the number of features.\n",
        "        y : array-like, shape = [n_samples]\n",
        "            Target values.\n",
        "\n",
        "        Returns\n",
        "        -------\n",
        "        self : object\n",
        "\n",
        "        \"\"\"\n",
        "        self.w_ = np.zeros(1 + X.shape[1])\n",
        "        self.errors_ = []\n",
        "\n",
        "        for _ in range(self.n_iter):\n",
        "            errors = 0\n",
        "            for xi, target in zip(X, y):\n",
        "                update = self.eta * (target - self.predict(xi))\n",
        "                self.w_[1:] += update * xi\n",
        "                self.w_[0] += update\n",
        "                errors += int(update != 0.0)\n",
        "            self.errors_.append(errors)\n",
        "        return self\n",
        "\n",
        "    def net_input(self, X):\n",
        "        \"\"\"Calculate net input\"\"\"\n",
        "        return np.dot(X, self.w_[1:]) + self.w_[0]\n",
        "\n",
        "    def predict(self, X):\n",
        "        \"\"\"Return class label after unit step\"\"\"\n",
        "        return np.where(self.net_input(X) >= 0.0, 1, -1)"
      ],
      "execution_count": 4,
      "outputs": []
    },
    {
      "cell_type": "code",
      "metadata": {
        "id": "PRJvrJB3aAYP",
        "colab": {
          "base_uri": "https://localhost:8080/",
          "height": 204
        },
        "outputId": "2523067b-e15b-4d1a-c300-05d559131a6f"
      },
      "source": [
        "import pandas as pd\n",
        "\n",
        "data_src = 'https://archive.ics.uci.edu/ml/machine-learning-databases/iris/iris.data'\n",
        "\n",
        "df = pd.read_csv(data_src, header=None)\n",
        "\n",
        "df.tail()"
      ],
      "execution_count": 5,
      "outputs": [
        {
          "output_type": "execute_result",
          "data": {
            "text/plain": [
              "       0    1    2    3               4\n",
              "145  6.7  3.0  5.2  2.3  Iris-virginica\n",
              "146  6.3  2.5  5.0  1.9  Iris-virginica\n",
              "147  6.5  3.0  5.2  2.0  Iris-virginica\n",
              "148  6.2  3.4  5.4  2.3  Iris-virginica\n",
              "149  5.9  3.0  5.1  1.8  Iris-virginica"
            ],
            "text/html": [
              "\n",
              "  <div id=\"df-9eff1be4-dc95-4359-9990-dfc447b8f932\">\n",
              "    <div class=\"colab-df-container\">\n",
              "      <div>\n",
              "<style scoped>\n",
              "    .dataframe tbody tr th:only-of-type {\n",
              "        vertical-align: middle;\n",
              "    }\n",
              "\n",
              "    .dataframe tbody tr th {\n",
              "        vertical-align: top;\n",
              "    }\n",
              "\n",
              "    .dataframe thead th {\n",
              "        text-align: right;\n",
              "    }\n",
              "</style>\n",
              "<table border=\"1\" class=\"dataframe\">\n",
              "  <thead>\n",
              "    <tr style=\"text-align: right;\">\n",
              "      <th></th>\n",
              "      <th>0</th>\n",
              "      <th>1</th>\n",
              "      <th>2</th>\n",
              "      <th>3</th>\n",
              "      <th>4</th>\n",
              "    </tr>\n",
              "  </thead>\n",
              "  <tbody>\n",
              "    <tr>\n",
              "      <th>145</th>\n",
              "      <td>6.7</td>\n",
              "      <td>3.0</td>\n",
              "      <td>5.2</td>\n",
              "      <td>2.3</td>\n",
              "      <td>Iris-virginica</td>\n",
              "    </tr>\n",
              "    <tr>\n",
              "      <th>146</th>\n",
              "      <td>6.3</td>\n",
              "      <td>2.5</td>\n",
              "      <td>5.0</td>\n",
              "      <td>1.9</td>\n",
              "      <td>Iris-virginica</td>\n",
              "    </tr>\n",
              "    <tr>\n",
              "      <th>147</th>\n",
              "      <td>6.5</td>\n",
              "      <td>3.0</td>\n",
              "      <td>5.2</td>\n",
              "      <td>2.0</td>\n",
              "      <td>Iris-virginica</td>\n",
              "    </tr>\n",
              "    <tr>\n",
              "      <th>148</th>\n",
              "      <td>6.2</td>\n",
              "      <td>3.4</td>\n",
              "      <td>5.4</td>\n",
              "      <td>2.3</td>\n",
              "      <td>Iris-virginica</td>\n",
              "    </tr>\n",
              "    <tr>\n",
              "      <th>149</th>\n",
              "      <td>5.9</td>\n",
              "      <td>3.0</td>\n",
              "      <td>5.1</td>\n",
              "      <td>1.8</td>\n",
              "      <td>Iris-virginica</td>\n",
              "    </tr>\n",
              "  </tbody>\n",
              "</table>\n",
              "</div>\n",
              "      <button class=\"colab-df-convert\" onclick=\"convertToInteractive('df-9eff1be4-dc95-4359-9990-dfc447b8f932')\"\n",
              "              title=\"Convert this dataframe to an interactive table.\"\n",
              "              style=\"display:none;\">\n",
              "        \n",
              "  <svg xmlns=\"http://www.w3.org/2000/svg\" height=\"24px\"viewBox=\"0 0 24 24\"\n",
              "       width=\"24px\">\n",
              "    <path d=\"M0 0h24v24H0V0z\" fill=\"none\"/>\n",
              "    <path d=\"M18.56 5.44l.94 2.06.94-2.06 2.06-.94-2.06-.94-.94-2.06-.94 2.06-2.06.94zm-11 1L8.5 8.5l.94-2.06 2.06-.94-2.06-.94L8.5 2.5l-.94 2.06-2.06.94zm10 10l.94 2.06.94-2.06 2.06-.94-2.06-.94-.94-2.06-.94 2.06-2.06.94z\"/><path d=\"M17.41 7.96l-1.37-1.37c-.4-.4-.92-.59-1.43-.59-.52 0-1.04.2-1.43.59L10.3 9.45l-7.72 7.72c-.78.78-.78 2.05 0 2.83L4 21.41c.39.39.9.59 1.41.59.51 0 1.02-.2 1.41-.59l7.78-7.78 2.81-2.81c.8-.78.8-2.07 0-2.86zM5.41 20L4 18.59l7.72-7.72 1.47 1.35L5.41 20z\"/>\n",
              "  </svg>\n",
              "      </button>\n",
              "      \n",
              "  <style>\n",
              "    .colab-df-container {\n",
              "      display:flex;\n",
              "      flex-wrap:wrap;\n",
              "      gap: 12px;\n",
              "    }\n",
              "\n",
              "    .colab-df-convert {\n",
              "      background-color: #E8F0FE;\n",
              "      border: none;\n",
              "      border-radius: 50%;\n",
              "      cursor: pointer;\n",
              "      display: none;\n",
              "      fill: #1967D2;\n",
              "      height: 32px;\n",
              "      padding: 0 0 0 0;\n",
              "      width: 32px;\n",
              "    }\n",
              "\n",
              "    .colab-df-convert:hover {\n",
              "      background-color: #E2EBFA;\n",
              "      box-shadow: 0px 1px 2px rgba(60, 64, 67, 0.3), 0px 1px 3px 1px rgba(60, 64, 67, 0.15);\n",
              "      fill: #174EA6;\n",
              "    }\n",
              "\n",
              "    [theme=dark] .colab-df-convert {\n",
              "      background-color: #3B4455;\n",
              "      fill: #D2E3FC;\n",
              "    }\n",
              "\n",
              "    [theme=dark] .colab-df-convert:hover {\n",
              "      background-color: #434B5C;\n",
              "      box-shadow: 0px 1px 3px 1px rgba(0, 0, 0, 0.15);\n",
              "      filter: drop-shadow(0px 1px 2px rgba(0, 0, 0, 0.3));\n",
              "      fill: #FFFFFF;\n",
              "    }\n",
              "  </style>\n",
              "\n",
              "      <script>\n",
              "        const buttonEl =\n",
              "          document.querySelector('#df-9eff1be4-dc95-4359-9990-dfc447b8f932 button.colab-df-convert');\n",
              "        buttonEl.style.display =\n",
              "          google.colab.kernel.accessAllowed ? 'block' : 'none';\n",
              "\n",
              "        async function convertToInteractive(key) {\n",
              "          const element = document.querySelector('#df-9eff1be4-dc95-4359-9990-dfc447b8f932');\n",
              "          const dataTable =\n",
              "            await google.colab.kernel.invokeFunction('convertToInteractive',\n",
              "                                                     [key], {});\n",
              "          if (!dataTable) return;\n",
              "\n",
              "          const docLinkHtml = 'Like what you see? Visit the ' +\n",
              "            '<a target=\"_blank\" href=https://colab.research.google.com/notebooks/data_table.ipynb>data table notebook</a>'\n",
              "            + ' to learn more about interactive tables.';\n",
              "          element.innerHTML = '';\n",
              "          dataTable['output_type'] = 'display_data';\n",
              "          await google.colab.output.renderOutput(dataTable, element);\n",
              "          const docLink = document.createElement('div');\n",
              "          docLink.innerHTML = docLinkHtml;\n",
              "          element.appendChild(docLink);\n",
              "        }\n",
              "      </script>\n",
              "    </div>\n",
              "  </div>\n",
              "  "
            ]
          },
          "metadata": {},
          "execution_count": 5
        }
      ]
    },
    {
      "cell_type": "code",
      "metadata": {
        "id": "L_AlboxFaByl",
        "colab": {
          "base_uri": "https://localhost:8080/",
          "height": 296
        },
        "outputId": "2def5107-8bdd-4733-afec-5bfe85e3adc2"
      },
      "source": [
        "%matplotlib inline\n",
        "import matplotlib.pyplot as plt\n",
        "%config InlineBackend.figure_format='retina'\n",
        "import numpy as np\n",
        "\n",
        "# select setosa and versicolor\n",
        "y = df.iloc[0:100, 4].values\n",
        "y = np.where(y == 'Iris-setosa', -1, 1)\n",
        "\n",
        "# extract sepal length and petal length\n",
        "X = df.iloc[0:100, [0, 2]].values\n",
        "\n",
        "# plot data\n",
        "plt.scatter(X[:50, 0], X[:50, 1],\n",
        "            color='red', marker='o', label='setosa')\n",
        "plt.scatter(X[50:100, 0], X[50:100, 1],\n",
        "            color='blue', marker='x', label='versicolor')\n",
        "\n",
        "plt.xlabel('sepal length [cm]')\n",
        "plt.ylabel('petal length [cm]')\n",
        "plt.legend(loc='upper left')\n",
        "\n",
        "plt.tight_layout()\n",
        "plt.show()"
      ],
      "execution_count": 6,
      "outputs": [
        {
          "output_type": "display_data",
          "data": {
            "text/plain": [
              "<Figure size 432x288 with 1 Axes>"
            ],
            "image/png": "[encoded data removed]"
          },
          "metadata": {
            "image/png": {
              "width": 424,
              "height": 279
            },
            "needs_background": "light"
          }
        }
      ]
    },
    {
      "cell_type": "code",
      "metadata": {
        "id": "skqFfQamaDI3"
      },
      "source": [
        "ppn = Perceptron(eta=0.1, n_iter=10)\n",
        "ppn = ppn.fit(X, y)"
      ],
      "execution_count": 7,
      "outputs": []
    },
    {
      "cell_type": "code",
      "metadata": {
        "id": "ydG8Th6LaFEh"
      },
      "source": [
        "from matplotlib.colors import ListedColormap\n",
        "\n",
        "from matplotlib.colors import ListedColormap\n",
        "def plot_decision_regions(X, y, classifier, resolution=0.01):\n",
        "    markers = ('s', 'x', 'o', '^', 'v')\n",
        "    colors = ('red', 'blue', 'lightgreen', 'gray', 'cyan')\n",
        "    cmap = ListedColormap(colors[:len(np.unique(y))])\n",
        "    x1_min, x1_max = X[:, 0].min() - 1, X[:, 0].max() + 1\n",
        "    x2_min, x2_max = X[:, 1].min() - 1, X[:, 1].max() + 1\n",
        "    xx1, xx2 = np.meshgrid(np.arange(x1_min, x1_max, resolution),\n",
        "                           np.arange(x2_min, x2_max, resolution))\n",
        "    Z = classifier.predict(np.array([xx1.ravel(), xx2.ravel()]).T)\n",
        "    Z = Z.reshape(xx1.shape)\n",
        "    plt.contourf(xx1, xx2, Z, alpha=0.3, cmap=cmap)\n",
        "    plt.xlim(xx1.min(), xx1.max())\n",
        "    plt.ylim(xx2.min(), xx2.max())\n",
        "    for idx, cl in enumerate(np.unique(y)):\n",
        "        plt.scatter(x=X[y == cl, 0], \n",
        "                    y=X[y == cl, 1],\n",
        "                    alpha=0.8, \n",
        "                    c=colors[idx],\n",
        "                    marker=markers[idx], \n",
        "                    label=cl, \n",
        "                    edgecolor='black')"
      ],
      "execution_count": 8,
      "outputs": []
    },
    {
      "cell_type": "markdown",
      "metadata": {
        "id": "8wEkoJNTaHVw"
      },
      "source": [
        "As shown in function plot_decision_regions, the decision regions can be visualized by dense sampling via meshgrid. However, if the grid resolution is not enough, as artificially set below, the boundary will appear inaccurate.\n",
        "\n",
        "Implement function plot_decision_boundary below to analytically compute and plot the decision boundary."
      ]
    },
    {
      "cell_type": "code",
      "metadata": {
        "id": "ETZTKgflaJ-P"
      },
      "source": [
        "def plot_decision_boundary(X, y, classifier):    \n",
        "    \n",
        "    # replace the two lines below with your code\n",
        "    w = classifier.w_ \n",
        "    x1_interval = [X[:, 0].min() - 1, X[:, 0].max() + 1]\n",
        "    x2_interval = [-(w[0] + w[1]*x1_interval[0]) / w[2], -(w[0] + w[1]*x1_interval[1]) / w[2]]\n",
        "    \n",
        "    plt.plot(x1_interval, x2_interval, color='green', linewidth=4, label='boundary')"
      ],
      "execution_count": 9,
      "outputs": []
    },
    {
      "cell_type": "code",
      "metadata": {
        "id": "3MpX2DdFaLbJ",
        "colab": {
          "base_uri": "https://localhost:8080/",
          "height": 296
        },
        "outputId": "f2cca7ac-6548-4ade-a21c-6276e365a0ee"
      },
      "source": [
        "low_res = 0.1 # intentional for this exercise\n",
        "plot_decision_regions(X, y, classifier=ppn, resolution=low_res)\n",
        "plot_decision_boundary(X, y, classifier=ppn)\n",
        "plt.xlabel('sepal length [cm]')\n",
        "plt.ylabel('petal length [cm]')\n",
        "plt.legend(loc='upper left')\n",
        "plt.tight_layout()\n",
        "plt.show()"
      ],
      "execution_count": 10,
      "outputs": [
        {
          "output_type": "display_data",
          "data": {
            "text/plain": [
              "<Figure size 432x288 with 1 Axes>"
            ],
            "image/png": "[encoded data removed]"
          },
          "metadata": {
            "image/png": {
              "width": 424,
              "height": 279
            },
            "needs_background": "light"
          }
        }
      ]
    },
    {
      "cell_type": "markdown",
      "metadata": {
        "id": "s9RyhbgDaXSh"
      },
      "source": [
        "###B2\n",
        "\n",
        "In class we applied different scikit-learn classifers for the Iris data set.\n",
        "\n",
        "In this question, we will apply the same set of classifiers over a different data set: hand-written digits.\n",
        "Please write down the code for different classifiers, choose their hyper-parameters, and compare their performance via the accuracy score as in the Iris dataset.\n",
        "Which classifier(s) perform(s) the best and worst, and why?\n",
        "\n",
        "The classifiers include:\n",
        "* perceptron\n",
        "* logistic regression\n",
        "* SVM\n",
        "* decision tree\n",
        "* random forest\n",
        "* KNN\n",
        "\n",
        "The dataset is available as part of scikit learn, as follows."
      ]
    },
    {
      "cell_type": "code",
      "metadata": {
        "id": "G34BD-WdaneG",
        "colab": {
          "base_uri": "https://localhost:8080/"
        },
        "outputId": "0ba26d83-df5f-424f-cac2-d791ed148910"
      },
      "source": [
        "from sklearn.datasets import load_digits\n",
        "digits = load_digits()\n",
        "\n",
        "X = digits.data # training data\n",
        "y = digits.target # training label\n",
        "\n",
        "print(X.shape)\n",
        "print(y.shape)\n"
      ],
      "execution_count": 41,
      "outputs": [
        {
          "output_type": "stream",
          "name": "stdout",
          "text": [
            "(1797, 64)\n",
            "(1797,)\n"
          ]
        }
      ]
    },
    {
      "cell_type": "code",
      "metadata": {
        "id": "fGu93j6CaqLq",
        "colab": {
          "base_uri": "https://localhost:8080/",
          "height": 602
        },
        "outputId": "b9665ffb-5aae-4c89-8115-aefde4acf20e"
      },
      "source": [
        "import matplotlib.pyplot as plt\n",
        "import pylab as pl\n",
        "import matplotlib as mpl\n",
        "mpl.rcParams['figure.dpi'] = 150\n",
        "num_rows = 4\n",
        "num_cols = 5\n",
        "fig, ax = plt.subplots(nrows=num_rows, ncols=num_cols, sharex=True, sharey=True)\n",
        "ax = ax.flatten()\n",
        "for index in range(num_rows*num_cols):\n",
        "    img = digits.images[index]\n",
        "    label = digits.target[index]\n",
        "    ax[index].imshow(img, cmap='Greys', interpolation='nearest')\n",
        "    ax[index].set_title('digit ' + str(label))\n",
        "ax[0].set_xticks([])\n",
        "ax[0].set_yticks([])\n",
        "plt.tight_layout()\n",
        "plt.show()"
      ],
      "execution_count": 42,
      "outputs": [
        {
          "output_type": "display_data",
          "data": {
            "text/plain": [
              "<Figure size 900x600 with 20 Axes>"
            ],
            "image/png": "[encoded data removed]"
          },
          "metadata": {
            "image/png": {
              "width": 810,
              "height": 585
            }
          }
        }
      ]
    },
    {
      "cell_type": "markdown",
      "metadata": {
        "id": "Vrz6Lwxja7XB"
      },
      "source": [
        "Date Preprocessing\n",
        "\n",
        "Hint: Divide training and test data set and apply other techinques we have learned if needed."
      ]
    },
    {
      "cell_type": "code",
      "metadata": {
        "id": "OJW5hPNkbAT4"
      },
      "source": [
        "#Your code comes here\n",
        "# Import datasets, classifiers and performance metrics\n",
        "from sklearn.model_selection import train_test_split\n",
        "from sklearn.preprocessing import StandardScaler\n",
        "from sklearn.metrics import accuracy_score\n",
        "\n",
        "# flatten the images\n",
        "n_samples = len(digits.images)\n",
        "data = digits.images.reshape((n_samples, -1))\n",
        "\n",
        "# Split data into 50% train and 50% test subsets\n",
        "X_train, X_test, y_train, y_test = train_test_split(\n",
        "    data, digits.target, test_size=0.5, random_state=1, stratify=digits.target\n",
        ")\n",
        "\n",
        "# Feature Scaling\n",
        "sc = StandardScaler()\n",
        "sc.fit(X_train)\n",
        "X_train_std = sc.transform(X_train)\n",
        "X_test_std = sc.transform(X_test)\n",
        "\n"
      ],
      "execution_count": 43,
      "outputs": []
    },
    {
      "cell_type": "markdown",
      "metadata": {
        "id": "GX6bWDjCLoIr"
      },
      "source": [
        "Classifier #1 Perceptron"
      ]
    },
    {
      "cell_type": "code",
      "metadata": {
        "id": "lYkmrjmrLoIr",
        "colab": {
          "base_uri": "https://localhost:8080/"
        },
        "outputId": "734bb991-4cbb-43a2-b595-bf4e85c2390b"
      },
      "source": [
        "#Your code, including traing and testing, to observe the accuracies.\n",
        "from sklearn.linear_model import Perceptron\n",
        "ppn = Perceptron(eta0=0.1, random_state=1)\n",
        "ppn.fit(X_train_std, y_train)\n",
        "y_pred = ppn.predict(X_test)\n",
        "print('Accuracy: %.3f' % accuracy_score(y_test, y_pred))"
      ],
      "execution_count": 44,
      "outputs": [
        {
          "output_type": "stream",
          "name": "stdout",
          "text": [
            "Accuracy: 0.674\n"
          ]
        }
      ]
    },
    {
      "cell_type": "markdown",
      "metadata": {
        "id": "yfoFni6tLoIv"
      },
      "source": [
        "Classifier #2 Logistic Regression"
      ]
    },
    {
      "cell_type": "code",
      "metadata": {
        "id": "eggDI2swLoIv",
        "colab": {
          "base_uri": "https://localhost:8080/"
        },
        "outputId": "93cd1df9-b09b-47e4-dcd6-77bebf5ca534"
      },
      "source": [
        "#Your code, including traing and testing, to observe the accuracies.\n",
        "from sklearn.linear_model import LogisticRegression\n",
        "lr = LogisticRegression(C=100.0, solver='liblinear', multi_class='ovr')\n",
        "lr.fit(X_train_std, y_train)\n",
        "y_pred = lr.predict(X_test)\n",
        "print('Accuracy: %.3f' % accuracy_score(y_test, y_pred))\n"
      ],
      "execution_count": 45,
      "outputs": [
        {
          "output_type": "stream",
          "name": "stdout",
          "text": [
            "Accuracy: 0.809\n"
          ]
        }
      ]
    },
    {
      "cell_type": "markdown",
      "metadata": {
        "id": "4hlwLV3RLoIz"
      },
      "source": [
        "Classifier #3 SVM"
      ]
    },
    {
      "cell_type": "code",
      "metadata": {
        "id": "jWracruvLoI0",
        "colab": {
          "base_uri": "https://localhost:8080/"
        },
        "outputId": "50e64b13-8fb2-4766-b28a-fb9bb7205455"
      },
      "source": [
        "#Your code, including traing and testing, to observe the accuracies.\n",
        "from sklearn.svm import SVC\n",
        "\n",
        "svm = SVC(kernel='linear', C=1, random_state=1)\n",
        "svm.fit(X_train_std, y_train)\n",
        "y_pred = svm.predict(X_test)\n",
        "print('Accuracy: %.3f' % accuracy_score(y_test, y_pred))\n"
      ],
      "execution_count": 50,
      "outputs": [
        {
          "output_type": "stream",
          "name": "stdout",
          "text": [
            "Accuracy: 0.835\n"
          ]
        }
      ]
    },
    {
      "cell_type": "markdown",
      "metadata": {
        "id": "OjozjBQ8LoI4"
      },
      "source": [
        "Classifier #4 Decision Tree"
      ]
    },
    {
      "cell_type": "code",
      "metadata": {
        "id": "inw3NjgQLoI4",
        "colab": {
          "base_uri": "https://localhost:8080/"
        },
        "outputId": "a45c8111-1763-4886-a8f1-96f44720be07"
      },
      "source": [
        "#Your code, including traing and testing, to observe the accuracies.\n",
        "from sklearn.tree import DecisionTreeClassifier\n",
        "\n",
        "tree = DecisionTreeClassifier(criterion='gini', max_depth=4, random_state=1)\n",
        "tree.fit(X_train_std, y_train)\n",
        "y_pred = tree.predict(X_test)\n",
        "print('Accuracy: %.3f' % accuracy_score(y_test, y_pred))\n"
      ],
      "execution_count": 47,
      "outputs": [
        {
          "output_type": "stream",
          "name": "stdout",
          "text": [
            "Accuracy: 0.204\n"
          ]
        }
      ]
    },
    {
      "cell_type": "markdown",
      "metadata": {
        "id": "hIVcFJhELoI8"
      },
      "source": [
        "Classifer #5 Random Forest"
      ]
    },
    {
      "cell_type": "code",
      "metadata": {
        "id": "ZsFgIgVKLoI8",
        "colab": {
          "base_uri": "https://localhost:8080/"
        },
        "outputId": "1dadb814-1ec4-4430-8b3f-83e3bf1a950d"
      },
      "source": [
        "#Your code, including traing and testing, to observe the accuracies.\n",
        "from sklearn.ensemble import RandomForestClassifier\n",
        "\n",
        "forest = RandomForestClassifier(criterion='gini', n_estimators=25, random_state=1, n_jobs=2)\n",
        "forest.fit(X_train_std, y_train)\n",
        "y_pred = forest.predict(X_test)\n",
        "print('Accuracy: %.3f' % accuracy_score(y_test, y_pred))"
      ],
      "execution_count": 48,
      "outputs": [
        {
          "output_type": "stream",
          "name": "stdout",
          "text": [
            "Accuracy: 0.248\n"
          ]
        }
      ]
    },
    {
      "cell_type": "markdown",
      "metadata": {
        "id": "OQWwURjyLoI_"
      },
      "source": [
        "Classifier #6 KNN"
      ]
    },
    {
      "cell_type": "code",
      "metadata": {
        "id": "afe9Rn3FLoJA",
        "colab": {
          "base_uri": "https://localhost:8080/"
        },
        "outputId": "8bf92460-d807-46d8-e776-bdeef1e1d28a"
      },
      "source": [
        "#Your code, including traing and testing, to observe the accuracies.\n",
        "from sklearn.neighbors import KNeighborsClassifier\n",
        "\n",
        "knn = KNeighborsClassifier(n_neighbors=5, p=2, metric='minkowski')\n",
        "knn.fit(X_train_std, y_train)\n",
        "y_pred = knn.predict(X_test)\n",
        "print('Accuracy: %.3f' % accuracy_score(y_test, y_pred))"
      ],
      "execution_count": 49,
      "outputs": [
        {
          "output_type": "stream",
          "name": "stdout",
          "text": [
            "Accuracy: 0.812\n"
          ]
        }
      ]
    },
    {
      "cell_type": "markdown",
      "source": [
        "**We can see that support vector machine performs the best and decision tree performs the worst. In this dataset, there are more than 60 features and 10 labels. Also, the sample size is not very large. Decision tree cannot work well since it is prone to errors in classification problem with many classes and relatively small number of training samples. On the other hand, support vector machine works well because it is effective in high dimensional spaces.**"
      ],
      "metadata": {
        "id": "tSV7C99U83RL"
      }
    },
    {
      "cell_type": "markdown",
      "metadata": {
        "id": "gsIa9BsPGr2k"
      },
      "source": [
        "###B3\n",
        "Build a spam classifier:\n",
        "\n",
        "\n",
        "\n",
        "*   Download examples of spam and ham from Apache SpamAssassin’s public datasets.\n",
        "*   Unzip the datasets and familiarize yourself with the data format.\n",
        "*   Split the datasets into a training set and a test set.\n",
        "*   Write a data preparation pipeline to convert each email into a feature vector. Your preparation pipeline should transform an email into a (sparse) vector that indicates the presence or absence of each possible word. For example, if all emails only ever contain four words, “Hello,” “how,” “are,” “you,” then the email “Hello you Hello Hello you” would be converted into a vector [1, 0, 0, 1] (meaning [“Hello” is present, “how” is absent, “are” is absent, “you” is present]), or [3, 0, 0, 2] if you prefer to count the number of occurrences of each word.\n",
        "*   You may want to add hyperparameters to your preparation pipeline to control whether or not to strip off email headers, convert each email to lowercase, remove punctuation, replace all URLs with “URL,” replace all numbers with “NUMBER,” or even perform stemming (i.e., trim off word endings; there are Python libraries available to do this).\n",
        "\n",
        "*   Finally, try out several classifiers and see if you can build a great spam classifier, with both high recall and high precision."
      ]
    },
    {
      "cell_type": "code",
      "metadata": {
        "id": "cos_X9WTAe3C",
        "colab": {
          "base_uri": "https://localhost:8080/"
        },
        "outputId": "0cc64858-54fa-4744-b618-ef92e5b49a92"
      },
      "source": [
        "#Your answer here\n",
        "import os\n",
        "\n",
        "DATASETS_DIR = 'datasets'\n",
        "MODELS_DIR = 'models'\n",
        "TAR_DIR = os.path.join(DATASETS_DIR, 'tar')\n",
        "\n",
        "SPAM_URL = 'https://spamassassin.apache.org/old/publiccorpus/20050311_spam_2.tar.bz2'\n",
        "EASY_HAM_URL = 'https://spamassassin.apache.org/old/publiccorpus/20030228_easy_ham_2.tar.bz2'\n",
        "HARD_HAM_URL = 'https://spamassassin.apache.org/old/publiccorpus/20030228_hard_ham.tar.bz2'\n",
        "\n",
        "from urllib.request import urlretrieve\n",
        "import tarfile\n",
        "import shutil\n",
        "\n",
        "def download_dataset(url):\n",
        "    \"\"\"download and unzip data from a url into the specified path\"\"\"\n",
        "    \n",
        "    # create directory if it doesn't exist\n",
        "    if not os.path.isdir(TAR_DIR):\n",
        "        os.makedirs(TAR_DIR)\n",
        "    \n",
        "    filename = url.rsplit('/', 1)[-1]\n",
        "    tarpath = os.path.join(TAR_DIR, filename)\n",
        "    \n",
        "    # download the tar file if it doesn't exist\n",
        "    try:\n",
        "        tarfile.open(tarpath)\n",
        "    except:\n",
        "        urlretrieve(url, tarpath)\n",
        "    \n",
        "    with tarfile.open(tarpath) as tar:\n",
        "        dirname = os.path.join(DATASETS_DIR, tar.getnames()[0])\n",
        "        if os.path.isdir(dirname):\n",
        "            shutil.rmtree(dirname)\n",
        "        tar.extractall(path=DATASETS_DIR)\n",
        "        \n",
        "        cmds_path = os.path.join(dirname, 'cmds')\n",
        "        if os.path.isfile(cmds_path):\n",
        "            os.remove(cmds_path)\n",
        "    \n",
        "    return dirname\n",
        "\n",
        "# download the data\n",
        "spam_dir = download_dataset(SPAM_URL)\n",
        "easy_ham_dir = download_dataset(EASY_HAM_URL)\n",
        "hard_ham_dir = download_dataset(HARD_HAM_URL)\n",
        "\n",
        "import numpy as np\n",
        "import glob\n",
        "\n",
        "def load_dataset(dirpath):\n",
        "    \"\"\"load emails from the specified directory\"\"\"\n",
        "    \n",
        "    files = []\n",
        "    filepaths = glob.glob(dirpath + '/*')\n",
        "    for path in filepaths:\n",
        "        with open(path, 'rb') as f:\n",
        "            byte_content = f.read()\n",
        "            str_content = byte_content.decode('utf-8', errors='ignore')\n",
        "            files.append(str_content)\n",
        "    return files\n",
        "\n",
        "# load the datasets\n",
        "spam = load_dataset(spam_dir)\n",
        "easy_ham = load_dataset(easy_ham_dir)\n",
        "hard_ham = load_dataset(hard_ham_dir)\n",
        "\n",
        "import sklearn.utils\n",
        "\n",
        "# create the full dataset\n",
        "X = spam + easy_ham + hard_ham\n",
        "# spam = 1, ham = 0\n",
        "y = np.concatenate((np.ones(len(spam)), np.zeros(len(easy_ham) + len(hard_ham))))\n",
        "\n",
        "# shuffle the dataset\n",
        "X, y = sklearn.utils.shuffle(X, y, random_state=42)\n",
        "\n",
        "from sklearn.model_selection import train_test_split\n",
        "\n",
        "# split the data into stratified training and test sets\n",
        "X_train, X_test, y_train, y_test = train_test_split(X, y, test_size=0.2, stratify=y,\n",
        "                                                    random_state=1)\n",
        "\n",
        "def remove_header(email):\n",
        "    \"\"\"remove the header from an email\"\"\"\n",
        "    return email[email.index('\\n\\n'):]\n",
        "\n",
        "import re \n",
        "\n",
        "def is_url(s):\n",
        "    url = re.match(\"http[s]?://(?:[a-zA-Z]|[0-9]|[$-_@.&+]|\"\n",
        "                     \"[!*\\(\\), ]|(?:%[0-9a-fA-F][0-9a-fA-F]))+\", s)\n",
        "    return url is not None\n",
        "\n",
        "def convert_url_to_word(words):\n",
        "    \"\"\"convert all urls in the list to the word 'URL'\"\"\"\n",
        "    for i, word in enumerate(words):\n",
        "        if is_url(word):\n",
        "            words[i] = 'URL'\n",
        "    return words\n",
        "\n",
        "def convert_num_to_word(words):\n",
        "    \"\"\"convert all numbers in the list to the word 'NUM'\"\"\"\n",
        "    for i, word in enumerate(words):\n",
        "        if word.isdigit():\n",
        "            words[i] = 'NUM'\n",
        "    return words\n",
        "\n",
        "def remove_punctuation(email):\n",
        "    new_email = \"\"\n",
        "    for c in email:\n",
        "        if c.isalnum() or c.isspace():\n",
        "            new_email += c\n",
        "    return new_email\n",
        "\n",
        "from sklearn.base import BaseEstimator, TransformerMixin\n",
        "\n",
        "class CleanEmails(BaseEstimator, TransformerMixin):\n",
        "    def __init__(self, no_header=True, to_lowercase=True, url_to_word=True, num_to_word=True,\n",
        "                 remove_punc=True):\n",
        "        self.no_header = no_header\n",
        "        self.to_lowercase = to_lowercase\n",
        "        self.url_to_word = url_to_word\n",
        "        self.num_to_word = num_to_word\n",
        "        self.remove_punc = remove_punc\n",
        "    \n",
        "    def fit(self, X, y=None):\n",
        "        return self\n",
        "    \n",
        "    def transform(self, X, y=None):\n",
        "        X_cleaned = []\n",
        "        for email in X:\n",
        "            if self.no_header:\n",
        "                email = remove_header(email)\n",
        "            if self.to_lowercase:\n",
        "                email = email.lower()\n",
        "            \n",
        "            email_words = email.split()\n",
        "            if self.url_to_word:\n",
        "                email_words = convert_url_to_word(email_words)\n",
        "            if self.num_to_word:\n",
        "                email_words = convert_num_to_word(email_words)\n",
        "            email = ' '.join(email_words)\n",
        "            if self.remove_punc:\n",
        "                email = remove_punctuation(email)\n",
        "            X_cleaned.append(email)\n",
        "        return X_cleaned\n",
        "\n",
        "from sklearn.pipeline import Pipeline\n",
        "from sklearn.feature_extraction.text import CountVectorizer\n",
        "\n",
        "# full preparation pipeline\n",
        "prepare_pipeline = Pipeline([\n",
        "    ('clean_email', CleanEmails()),\n",
        "    ('bag_of_words', CountVectorizer())\n",
        "])\n",
        "# prepare the training data\n",
        "X_train_prepared = prepare_pipeline.fit_transform(X_train)\n",
        "print(X_train_prepared.shape)\n",
        "\n",
        "from sklearn.metrics import confusion_matrix\n",
        "from sklearn.metrics import accuracy_score, recall_score\n",
        "\n",
        "def eval_confusion(y_pred, y_true=y_train):\n",
        "    recall = recall_score(y_true, y_pred)\n",
        "    return {'recall': recall}\n",
        "\n",
        "\n",
        "from sklearn.tree import DecisionTreeClassifier\n",
        "from sklearn.ensemble import RandomForestClassifier\n",
        "from sklearn.neighbors import KNeighborsClassifier\n",
        "from sklearn.svm import SVC\n",
        "\n",
        "# classification models\n",
        "tree_clf = DecisionTreeClassifier(criterion='gini', max_depth=4, random_state=1)\n",
        "forest_clf = RandomForestClassifier(criterion='gini', n_estimators=25, random_state=1, n_jobs=2)\n",
        "knn_clf = KNeighborsClassifier(n_neighbors=5, p=2, metric='minkowski')\n",
        "svm_clf = SVC(kernel='linear', C=1, random_state=1)\n",
        "\n",
        "classifiers = {\n",
        "    'Decision Tree': tree_clf,\n",
        "    'Random Forest': forest_clf,\n",
        "    'KNN': knn_clf,\n",
        "    'SVM': svm_clf,\n",
        "}\n",
        "\n",
        "from sklearn.model_selection import cross_val_predict\n",
        "\n",
        "# make predictions using each model\n",
        "y_preds = {}\n",
        "for clf_name, clf in classifiers.items():\n",
        "    y_preds[clf_name] = cross_val_predict(clf, X_train_prepared, y_train, cv=3)\n",
        "\n",
        "# evaluate each classifier's accuracy\n",
        "for clf_name, y_pred in y_preds.items():\n",
        "    conf = eval_confusion(y_pred)\n",
        "    print(\"{}:\".format(clf_name))\n",
        "    print(\"accuracy: {}\".format(accuracy_score(y_train, y_pred)))\n",
        "    print(\"recall: {}\".format(conf['recall']))\n",
        "    print()"
      ],
      "execution_count": 58,
      "outputs": [
        {
          "output_type": "stream",
          "name": "stdout",
          "text": [
            "(2436, 95712)\n",
            "Decision Tree:\n",
            "accuracy: 0.8977832512315271\n",
            "recall: 0.8879928315412187\n",
            "\n",
            "Random Forest:\n",
            "accuracy: 0.9638752052545156\n",
            "recall: 0.96415770609319\n",
            "\n",
            "KNN:\n",
            "accuracy: 0.8891625615763546\n",
            "recall: 0.8745519713261649\n",
            "\n",
            "SVM:\n",
            "accuracy: 0.9626436781609196\n",
            "recall: 0.9614695340501792\n",
            "\n"
          ]
        }
      ]
    }
  ]
}